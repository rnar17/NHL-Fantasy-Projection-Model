{
 "cells": [
  {
   "cell_type": "code",
   "execution_count": 1,
   "id": "a11765616e46d089",
   "metadata": {
    "collapsed": false,
    "ExecuteTime": {
     "end_time": "2024-08-27T19:30:06.155284Z",
     "start_time": "2024-08-27T19:30:03.943094Z"
    }
   },
   "outputs": [],
   "source": [
    "import pandas as pd\n",
    "import xlsxwriter\n",
    "from random import randint\n",
    "from time import sleep\n",
    "import numpy as np\n",
    "import matplotlib.pyplot as plt\n",
    "%matplotlib inline"
   ]
  },
  {
   "cell_type": "code",
   "outputs": [],
   "source": [
    "# start with 2008 - when BLK is available\n",
    "seasons = [year for year in range(2008, 2025) if year != 2005]\n",
    "skater_stats = ['Player', 'Age', 'Pos', 'GP', 'G', 'A', '+/-', 'PIM', 'PPP', 'ATOI', 'S', 'BLK', 'HIT']\n",
    "goalie_stats = ['W', 'GAA', 'SV%']"
   ],
   "metadata": {
    "collapsed": false,
    "ExecuteTime": {
     "end_time": "2024-08-27T19:30:30.765510Z",
     "start_time": "2024-08-27T19:30:30.761499Z"
    }
   },
   "id": "3091eb75ccd54bed",
   "execution_count": 2
  },
  {
   "cell_type": "code",
   "outputs": [],
   "source": [
    "# GOAL: append each season's dataframe to the original, parent dataframe\n",
    "\n",
    "# Initialize an empty DataFrame\n",
    "stats_df = pd.DataFrame()\n",
    "\n",
    "for season in seasons:\n",
    "\n",
    "    # create season stats URL\n",
    "    stats_url = f\"https://www.hockey-reference.com/leagues/NHL_{season}_skaters.html\"\n",
    "\n",
    "    # Read data from website\n",
    "    stats_dfs = pd.read_html(stats_url)\n",
    "    temp_df = stats_dfs[0]\n",
    "\n",
    "    # Initialize temporary DataFrame\n",
    "    list_of_columns = [col[1] for col in temp_df.columns]\n",
    "    temp_df.columns = list_of_columns\n",
    "    first_column = temp_df.columns[0]\n",
    "    temp_df.set_index(first_column, inplace=True)\n",
    "\n",
    "    # Rename columns as necessary\n",
    "    new_column_names = {11: 'G_EV', 12: 'G_PP', 13: 'G_SH', 14:\n",
    "        'GWG', 15: 'A_EV', 16: 'A_PP', 17: 'A_SH'}\n",
    "    for col in new_column_names:\n",
    "        temp_df.columns.values[col] = new_column_names[col]\n",
    "\n",
    "    # Convert columns to numeric as necessary\n",
    "    temp_df.drop(columns=['FOW', 'FOL', 'FO%'], errors='ignore', inplace=True)\n",
    "    indices_to_numeric = [col for col in range(4, 24) if col != 21]\n",
    "    cols_to_numeric = [temp_df.columns[col] for col in indices_to_numeric]\n",
    "    for column in cols_to_numeric:\n",
    "        temp_df[column] = pd.to_numeric(temp_df[column], errors='coerce')\n",
    "\n",
    "    # Create PPP statistic by adding PP goals to PP assists \n",
    "    temp_df['PPP'] = temp_df['G_PP'] + temp_df['A_PP']\n",
    "\n",
    "    # Filter out unneeded columns\n",
    "    filtered_columns = [col for col in skater_stats if col in temp_df.columns]\n",
    "    temp_df = temp_df[filtered_columns].copy()  # create a copy to avoid warning message\n",
    "\n",
    "    # Add season column\n",
    "    temp_df.insert(0, 'Season', f'{str(season - 1)}-{str(season)[2:]}')\n",
    "\n",
    "    # Remove duplicate player ID's\n",
    "    duplicates = temp_df.index.duplicated(keep='first')\n",
    "    temp_df = temp_df.loc[~duplicates]\n",
    "\n",
    "    # Get rid of repeated column headers\n",
    "    temp_df.dropna(axis=0, how='any', inplace=True)\n",
    "\n",
    "    # Concatenate temp_df to the end of stats_df\n",
    "    stats_df = pd.concat([stats_df, temp_df], ignore_index=True)\n",
    "\n",
    "    # delay next iteration \n",
    "    sleep(randint(10, 25))\n",
    "\n",
    "# Export dataframe to excel for future use\n",
    "stats_df.to_excel(r\"C:\\Users\\naray\\Documents\\Coding Projects\\stats_df.xlsx\", engine='xlsxwriter')\n"
   ],
   "metadata": {
    "collapsed": false,
    "ExecuteTime": {
     "end_time": "2024-08-13T01:46:31.529910Z",
     "start_time": "2024-08-13T01:41:28.119334Z"
    }
   },
   "id": "e7d31a0f279842b3",
   "execution_count": 3
  },
  {
   "cell_type": "code",
   "outputs": [],
   "source": [
    "# Dataframe filtering\n",
    "\n",
    "# Store dataframe from excel\n",
    "stats_df = pd.read_excel(r\"C:\\Users\\naray\\Documents\\Coding Projects\\stats_df.xlsx\")\n",
    "\n",
    "stats_df.drop(columns=[stats_df.columns[0]], inplace=True)\n",
    "\n",
    "# Create a new column combining 'Name' and 'Position'\n",
    "stats_df['Name_Pos'] = stats_df['Player'] + \"_\" + stats_df['Pos']\n",
    "\n",
    "# Get unique combinations of 'Name_Pos'\n",
    "unique_name_pos = stats_df['Name_Pos'].unique()\n",
    "\n",
    "# Generate a dictionary with random numbers as IDs for each 'Name_Pos' combination\n",
    "name_pos_id_map = {combo: randint(10000, 99999) for combo in unique_name_pos}\n",
    "\n",
    "# Apply the mapping to assign each player-team combination a random ID\n",
    "stats_df['ID'] = stats_df['Name_Pos'].map(name_pos_id_map)\n",
    "id_col = stats_df.pop('ID')\n",
    "stats_df.insert(0, 'ID', id_col)\n",
    "\n",
    "stats_df.drop(columns=['Name_Pos'], inplace=True)\n",
    "# Remove GP outliers \n",
    "min_gp = 10\n",
    "stats_df = stats_df[stats_df['GP'] >= min_gp]\n",
    "\n",
    "\n",
    "# convert ATOI to seconds \n",
    "def atoi_to_seconds(col):\n",
    "    minutes, seconds = map(int, col.split(':'))\n",
    "    return minutes * 60 + seconds\n",
    "\n",
    "\n",
    "stats_df['ATOI'] = stats_df['ATOI'].apply(atoi_to_seconds)\n",
    "# Normalizing Data Across Seasons\n",
    "cols_to_norm = skater_stats[4:]\n",
    "\n",
    "\n",
    "def normalize(col):\n",
    "    return (col - col.min()) / (col.max() - col.min())  # normalization formula\n",
    "\n",
    "\n",
    "def normalize_cols(df):\n",
    "    for col_name in cols_to_norm:\n",
    "        df[f'{col_name}_norm'] = normalize(df[col_name])\n",
    "    return df\n",
    "\n",
    "\n",
    "df_final = normalize_cols(stats_df)"
   ],
   "metadata": {
    "collapsed": false,
    "ExecuteTime": {
     "end_time": "2024-08-28T00:45:04.164998Z",
     "start_time": "2024-08-28T00:44:59.851355Z"
    }
   },
   "id": "ee5c8b135952e9e",
   "execution_count": 12
  },
  {
   "cell_type": "code",
   "outputs": [],
   "source": [
    " # function to calculate distance between two points\n",
    "def calc_distance(p1, p2):\n",
    "    dist_vec = p1 - p2\n",
    "    dist = np.sqrt(np.sum(dist_vec ** 2))\n",
    "    return dist\n",
    "\n",
    "# function to find the DataFrame row of a player given id and season\n",
    "def find_player(player_id, season, df):\n",
    "    for index, row in df.iterrows():\n",
    "        if season == row['Season'] and player_id == row['ID']:\n",
    "            return row\n",
    "    \n",
    "# function to find the normalized stats of a player given id and season\n",
    "def current_player_stats(current_player_id, current_player_season, df):\n",
    "    return np.array([\n",
    "    (df.loc[(df['ID'] == current_player_id) & (df['Season'] == current_player_season), 'G_norm']).item(),\n",
    "    (df.loc[(df['ID'] == current_player_id) & (df['Season'] == current_player_season), 'A_norm']).item(),\n",
    "    (df.loc[(df['ID'] == current_player_id) & (df['Season'] == current_player_season), '+/-_norm']).item(),\n",
    "    (df.loc[(df['ID'] == current_player_id) & (df['Season'] == current_player_season), 'PIM_norm']).item(),\n",
    "    (df.loc[(df['ID'] == current_player_id) & (df['Season'] == current_player_season), 'PPP_norm']).item(),\n",
    "    (df.loc[(df['ID'] == current_player_id) & (df['Season'] == current_player_season), 'ATOI_norm']).item(),\n",
    "    (df.loc[(df['ID'] == current_player_id) & (df['Season'] == current_player_season), 'S_norm']).item(),\n",
    "    (df.loc[(df['ID'] == current_player_id) & (df['Season'] == current_player_season), 'BLK_norm']).item(),\n",
    "    (df.loc[(df['ID'] == current_player_id) & (df['Season'] == current_player_season), 'HIT_norm']).item()\n",
    "    ])"
   ],
   "metadata": {
    "collapsed": false,
    "ExecuteTime": {
     "end_time": "2024-08-27T19:30:42.211438Z",
     "start_time": "2024-08-27T19:30:42.202534Z"
    }
   },
   "id": "acf3a22c2c9f7c53",
   "execution_count": 4
  },
  {
   "cell_type": "code",
   "outputs": [],
   "source": [
    "season_list = [f'{str(x)}-{str(x + 1)[2:]}' for x in range(2007, 2024)]\n",
    "\n",
    "def player_comparison_tool(current_player_id, current_player_season, df):\n",
    "    \n",
    "    if ((df['Season'] == current_player_season) & (df['ID'] == current_player_id)).any() == False:\n",
    "        print(f\"Can't find player with id {current_player_id} and season {current_player_season}\")\n",
    "        return None\n",
    "\n",
    "    for row in df.itertuples():\n",
    "        if current_player_season == row.Season and current_player_id == row.ID:\n",
    "            break\n",
    "            \n",
    "    current_player_vector = current_player_stats(current_player_id, current_player_season, df)\n",
    "    print(f\"Projecting player_id {current_player_id} for season {season_list[season_list.index(current_player_season) + 1]}\")\n",
    "\n",
    "    player_distance = []\n",
    "\n",
    "    weighted_numbers = [1, 1, 1, 1, 1, 1, 1, 1, 1]\n",
    "\n",
    "    for index, row in df.iterrows():\n",
    "        compared_player_vector = np.array([\n",
    "            row['G_norm'],\n",
    "            row['A_norm'],\n",
    "            row['+/-_norm'],\n",
    "            row['PIM_norm'],\n",
    "            row['PPP_norm'],\n",
    "            row['ATOI_norm'],\n",
    "            row['S_norm'],\n",
    "            row['BLK_norm'],\n",
    "            row['HIT_norm']\n",
    "        ])\n",
    "\n",
    "        vfunc = np.vectorize(calc_distance)\n",
    "        distance_vec = vfunc(current_player_vector, compared_player_vector)\n",
    "        weighted_distance = distance_vec * weighted_numbers\n",
    "        number = np.sum(np.abs(weighted_distance)) / len(\n",
    "            distance_vec)  # standardized singular number that compares players \n",
    "        player_distance.append(number)\n",
    "\n",
    "    df['distance'] = player_distance\n",
    "    ranked_df = df.sort_values('distance')\n",
    "\n",
    "    scoring_stats = skater_stats[4:]\n",
    "\n",
    "    projected_stats = {}\n",
    "    for col in scoring_stats:\n",
    "        sum_stat = 0\n",
    "        sum_weight = 0\n",
    "        for index, row in ranked_df.iloc[1:11].iterrows():\n",
    "            # skip over row if it is the 2023-24 season because we can't take the next season\n",
    "            if row['Season'] == '2023-24':\n",
    "                continue\n",
    "            weight = 1 / row.distance\n",
    "            next_season = season_list[season_list.index(current_player_season) + 1]\n",
    "            # return row of player next season stats \n",
    "            player_next_season = find_player(row['ID'], next_season, df)\n",
    "            # If player next season is not found (retire or otherwise) then skip\n",
    "            if player_next_season is None:\n",
    "                continue\n",
    "            # Use getattr() method to access a variable attribute of an object (the row of the player next season stats)\n",
    "            sum_stat += player_next_season[col] * weight\n",
    "            sum_weight += weight\n",
    "        projected_stats['ID'] = current_player_id\n",
    "        projected_stats['proj_season'] = season_list[season_list.index(current_player_season) + 1]\n",
    "        projected_stats[f'proj_{col}'] = sum_stat / sum_weight\n",
    "\n",
    "    return projected_stats\n"
   ],
   "metadata": {
    "collapsed": false,
    "ExecuteTime": {
     "end_time": "2024-08-27T19:30:46.517945Z",
     "start_time": "2024-08-27T19:30:46.507630Z"
    }
   },
   "id": "14a5bf1131e97cfa",
   "execution_count": 5
  },
  {
   "cell_type": "code",
   "outputs": [
    {
     "name": "stdout",
     "output_type": "stream",
     "text": [
      "Projecting player_id 10771 for season 2022-23\n",
      "Projecting player_id 51282 for season 2022-23\n",
      "Projecting player_id 71582 for season 2022-23\n"
     ]
    },
    {
     "ename": "KeyboardInterrupt",
     "evalue": "",
     "output_type": "error",
     "traceback": [
      "\u001B[1;31m---------------------------------------------------------------------------\u001B[0m",
      "\u001B[1;31mKeyboardInterrupt\u001B[0m                         Traceback (most recent call last)",
      "Cell \u001B[1;32mIn[13], line 14\u001B[0m\n\u001B[0;32m     12\u001B[0m current_player_id \u001B[38;5;241m=\u001B[39m player_id\n\u001B[0;32m     13\u001B[0m current_player_season \u001B[38;5;241m=\u001B[39m \u001B[38;5;124m'\u001B[39m\u001B[38;5;124m2021-22\u001B[39m\u001B[38;5;124m'\u001B[39m\n\u001B[1;32m---> 14\u001B[0m projections \u001B[38;5;241m=\u001B[39m \u001B[43mplayer_comparison_tool\u001B[49m\u001B[43m(\u001B[49m\u001B[43mcurrent_player_id\u001B[49m\u001B[43m,\u001B[49m\u001B[43m \u001B[49m\u001B[43mcurrent_player_season\u001B[49m\u001B[43m,\u001B[49m\u001B[43m \u001B[49m\u001B[43mdf_final\u001B[49m\u001B[43m)\u001B[49m\n\u001B[0;32m     15\u001B[0m \u001B[38;5;28;01mif\u001B[39;00m projections \u001B[38;5;129;01mis\u001B[39;00m \u001B[38;5;28;01mNone\u001B[39;00m:\n\u001B[0;32m     16\u001B[0m     \u001B[38;5;28;01mcontinue\u001B[39;00m\n",
      "Cell \u001B[1;32mIn[5], line 36\u001B[0m, in \u001B[0;36mplayer_comparison_tool\u001B[1;34m(current_player_id, current_player_season, df)\u001B[0m\n\u001B[0;32m     34\u001B[0m     distance_vec \u001B[38;5;241m=\u001B[39m vfunc(current_player_vector, compared_player_vector)\n\u001B[0;32m     35\u001B[0m     weighted_distance \u001B[38;5;241m=\u001B[39m distance_vec \u001B[38;5;241m*\u001B[39m weighted_numbers\n\u001B[1;32m---> 36\u001B[0m     number \u001B[38;5;241m=\u001B[39m \u001B[43mnp\u001B[49m\u001B[38;5;241;43m.\u001B[39;49m\u001B[43msum\u001B[49m\u001B[43m(\u001B[49m\u001B[43mnp\u001B[49m\u001B[38;5;241;43m.\u001B[39;49m\u001B[43mabs\u001B[49m\u001B[43m(\u001B[49m\u001B[43mweighted_distance\u001B[49m\u001B[43m)\u001B[49m\u001B[43m)\u001B[49m \u001B[38;5;241m/\u001B[39m \u001B[38;5;28mlen\u001B[39m(\n\u001B[0;32m     37\u001B[0m         distance_vec)  \u001B[38;5;66;03m# standardized singular number that compares players \u001B[39;00m\n\u001B[0;32m     38\u001B[0m     player_distance\u001B[38;5;241m.\u001B[39mappend(number)\n\u001B[0;32m     40\u001B[0m df[\u001B[38;5;124m'\u001B[39m\u001B[38;5;124mdistance\u001B[39m\u001B[38;5;124m'\u001B[39m] \u001B[38;5;241m=\u001B[39m player_distance\n",
      "File \u001B[1;32m~\\AppData\\Local\\Programs\\Python\\Python312\\Lib\\site-packages\\numpy\\_core\\fromnumeric.py:2389\u001B[0m, in \u001B[0;36msum\u001B[1;34m(a, axis, dtype, out, keepdims, initial, where)\u001B[0m\n\u001B[0;32m   2386\u001B[0m         \u001B[38;5;28;01mreturn\u001B[39;00m out\n\u001B[0;32m   2387\u001B[0m     \u001B[38;5;28;01mreturn\u001B[39;00m res\n\u001B[1;32m-> 2389\u001B[0m \u001B[38;5;28;01mreturn\u001B[39;00m \u001B[43m_wrapreduction\u001B[49m\u001B[43m(\u001B[49m\n\u001B[0;32m   2390\u001B[0m \u001B[43m    \u001B[49m\u001B[43ma\u001B[49m\u001B[43m,\u001B[49m\u001B[43m \u001B[49m\u001B[43mnp\u001B[49m\u001B[38;5;241;43m.\u001B[39;49m\u001B[43madd\u001B[49m\u001B[43m,\u001B[49m\u001B[43m \u001B[49m\u001B[38;5;124;43m'\u001B[39;49m\u001B[38;5;124;43msum\u001B[39;49m\u001B[38;5;124;43m'\u001B[39;49m\u001B[43m,\u001B[49m\u001B[43m \u001B[49m\u001B[43maxis\u001B[49m\u001B[43m,\u001B[49m\u001B[43m \u001B[49m\u001B[43mdtype\u001B[49m\u001B[43m,\u001B[49m\u001B[43m \u001B[49m\u001B[43mout\u001B[49m\u001B[43m,\u001B[49m\n\u001B[0;32m   2391\u001B[0m \u001B[43m    \u001B[49m\u001B[43mkeepdims\u001B[49m\u001B[38;5;241;43m=\u001B[39;49m\u001B[43mkeepdims\u001B[49m\u001B[43m,\u001B[49m\u001B[43m \u001B[49m\u001B[43minitial\u001B[49m\u001B[38;5;241;43m=\u001B[39;49m\u001B[43minitial\u001B[49m\u001B[43m,\u001B[49m\u001B[43m \u001B[49m\u001B[43mwhere\u001B[49m\u001B[38;5;241;43m=\u001B[39;49m\u001B[43mwhere\u001B[49m\n\u001B[0;32m   2392\u001B[0m \u001B[43m\u001B[49m\u001B[43m)\u001B[49m\n",
      "File \u001B[1;32m~\\AppData\\Local\\Programs\\Python\\Python312\\Lib\\site-packages\\numpy\\_core\\fromnumeric.py:70\u001B[0m, in \u001B[0;36m_wrapreduction\u001B[1;34m(obj, ufunc, method, axis, dtype, out, **kwargs)\u001B[0m\n\u001B[0;32m     69\u001B[0m \u001B[38;5;28;01mdef\u001B[39;00m \u001B[38;5;21m_wrapreduction\u001B[39m(obj, ufunc, method, axis, dtype, out, \u001B[38;5;241m*\u001B[39m\u001B[38;5;241m*\u001B[39mkwargs):\n\u001B[1;32m---> 70\u001B[0m     passkwargs \u001B[38;5;241m=\u001B[39m {k: v \u001B[38;5;28;01mfor\u001B[39;00m k, v \u001B[38;5;129;01min\u001B[39;00m \u001B[43mkwargs\u001B[49m\u001B[38;5;241;43m.\u001B[39;49m\u001B[43mitems\u001B[49m\u001B[43m(\u001B[49m\u001B[43m)\u001B[49m\n\u001B[0;32m     71\u001B[0m                   \u001B[38;5;28;01mif\u001B[39;00m v \u001B[38;5;129;01mis\u001B[39;00m \u001B[38;5;129;01mnot\u001B[39;00m np\u001B[38;5;241m.\u001B[39m_NoValue}\n\u001B[0;32m     73\u001B[0m     \u001B[38;5;28;01mif\u001B[39;00m \u001B[38;5;28mtype\u001B[39m(obj) \u001B[38;5;129;01mis\u001B[39;00m \u001B[38;5;129;01mnot\u001B[39;00m mu\u001B[38;5;241m.\u001B[39mndarray:\n\u001B[0;32m     74\u001B[0m         \u001B[38;5;28;01mtry\u001B[39;00m:\n",
      "\u001B[1;31mKeyboardInterrupt\u001B[0m: "
     ]
    }
   ],
   "source": [
    "# Projecting 2024-25 Season Stats\n",
    "\n",
    "ten_players = [51580, 12823, 15976, 92452, 77112, 25577, 52255, 49538, 32753, 97120]\n",
    "\n",
    "filtered_df = df_final[df_final['Season'] == '2021-22']\n",
    "player_ids_2024 = filtered_df['ID'].tolist()\n",
    "player_ids_2024\n",
    "\n",
    "final_projections = []\n",
    "\n",
    "for player_id in player_ids_2024:\n",
    "    current_player_id = player_id\n",
    "    current_player_season = '2021-22'\n",
    "    projections = player_comparison_tool(current_player_id, current_player_season, df_final)\n",
    "    if projections is None:\n",
    "        continue\n",
    "    final_projections.append(projections)\n"
   ],
   "metadata": {
    "collapsed": false,
    "ExecuteTime": {
     "end_time": "2024-08-28T00:49:48.399490Z",
     "start_time": "2024-08-28T00:47:48.303937Z"
    }
   },
   "id": "37b0c66a7b0a4665",
   "execution_count": 13
  },
  {
   "cell_type": "code",
   "outputs": [
    {
     "data": {
      "text/plain": "      ID         Player proj_season  proj_G  proj_A  proj_+/-  proj_PIM  \\\n0  10771   Noel Acciari     2022-23       8       8       -12        19   \n1  51282  Calen Addison     2022-23       1       1         0         3   \n\n   proj_PPP  proj_ATOI  proj_S  proj_BLK  proj_HIT  \n0         1        805      90        35        84  \n1         0        874      12         9         7  ",
      "text/html": "<div>\n<style scoped>\n    .dataframe tbody tr th:only-of-type {\n        vertical-align: middle;\n    }\n\n    .dataframe tbody tr th {\n        vertical-align: top;\n    }\n\n    .dataframe thead th {\n        text-align: right;\n    }\n</style>\n<table border=\"1\" class=\"dataframe\">\n  <thead>\n    <tr style=\"text-align: right;\">\n      <th></th>\n      <th>ID</th>\n      <th>Player</th>\n      <th>proj_season</th>\n      <th>proj_G</th>\n      <th>proj_A</th>\n      <th>proj_+/-</th>\n      <th>proj_PIM</th>\n      <th>proj_PPP</th>\n      <th>proj_ATOI</th>\n      <th>proj_S</th>\n      <th>proj_BLK</th>\n      <th>proj_HIT</th>\n    </tr>\n  </thead>\n  <tbody>\n    <tr>\n      <th>0</th>\n      <td>10771</td>\n      <td>Noel Acciari</td>\n      <td>2022-23</td>\n      <td>8</td>\n      <td>8</td>\n      <td>-12</td>\n      <td>19</td>\n      <td>1</td>\n      <td>805</td>\n      <td>90</td>\n      <td>35</td>\n      <td>84</td>\n    </tr>\n    <tr>\n      <th>1</th>\n      <td>51282</td>\n      <td>Calen Addison</td>\n      <td>2022-23</td>\n      <td>1</td>\n      <td>1</td>\n      <td>0</td>\n      <td>3</td>\n      <td>0</td>\n      <td>874</td>\n      <td>12</td>\n      <td>9</td>\n      <td>7</td>\n    </tr>\n  </tbody>\n</table>\n</div>"
     },
     "execution_count": 16,
     "metadata": {},
     "output_type": "execute_result"
    }
   ],
   "source": [
    "cols_to_round = ['proj_G', 'proj_A', 'proj_+/-', 'proj_PIM', 'proj_PPP', 'proj_ATOI', 'proj_S', 'proj_BLK', 'proj_HIT']\n",
    "# convert final projections into a dataframe to split\n",
    "proj_df = pd.DataFrame(data=final_projections)\n",
    "\n",
    "# merge dataframes on player_id column and season_ids\n",
    "df_final_unique = df_final.drop_duplicates(subset='ID', keep='first')\n",
    "final_df = pd.merge(proj_df, df_final_unique[['ID', 'Player']],  on='ID')\n",
    "\n",
    "# put player name column in the front\n",
    "player_col = final_df.pop('Player')\n",
    "final_df.insert(1, 'Player', player_col)\n",
    "\n",
    "# round projected values\n",
    "final_df[cols_to_round] = final_df[cols_to_round].round(0).astype(int)\n",
    "final_df"
   ],
   "metadata": {
    "collapsed": false,
    "ExecuteTime": {
     "end_time": "2024-08-28T00:52:03.222606Z",
     "start_time": "2024-08-28T00:52:03.195146Z"
    }
   },
   "id": "d964b995543fdc49",
   "execution_count": 16
  },
  {
   "cell_type": "code",
   "outputs": [
    {
     "data": {
      "text/plain": "[49696,\n 96176,\n 97365,\n 20591,\n 95023,\n 88158,\n 70073,\n 51607,\n 89354,\n 54761,\n 44343,\n 73306,\n 73291,\n 90794,\n 97419,\n 14018,\n 80322,\n 73766,\n 86421,\n 95525,\n 94902,\n 52870,\n 47157,\n 61352,\n 55168,\n 50494,\n 50272,\n 21478,\n 80634,\n 96585,\n 39862,\n 34579,\n 83424,\n 78204,\n 74402,\n 40103,\n 10217,\n 86231,\n 78096,\n 50906,\n 71138,\n 33704,\n 15210,\n 34944,\n 82350,\n 18075,\n 62267,\n 77302,\n 68435,\n 33222,\n 80286,\n 71149,\n 34475,\n 35856,\n 38751,\n 64802,\n 10875,\n 25388,\n 53998,\n 96680,\n 34714,\n 41639,\n 95726,\n 36500,\n 70690,\n 82869,\n 70155,\n 73302,\n 50054,\n 91240,\n 81400,\n 38145,\n 96236,\n 26942,\n 82584,\n 23534,\n 17309,\n 38724,\n 31368,\n 85208,\n 27883,\n 68392,\n 38570,\n 69336,\n 74723,\n 29439,\n 27863,\n 47737,\n 53403,\n 50622,\n 36154,\n 45553,\n 42976,\n 91456,\n 90111,\n 37790,\n 81824,\n 96590,\n 59678,\n 20248,\n 20194,\n 47494,\n 79265,\n 26747,\n 53151,\n 83589,\n 13461,\n 89940,\n 36013,\n 55053,\n 42751,\n 80874,\n 67209,\n 84827,\n 68971,\n 64459,\n 46547,\n 48033,\n 89470,\n 76078,\n 38432,\n 13124,\n 86371,\n 23889,\n 46393,\n 54697,\n 41321,\n 60885,\n 99215,\n 82128,\n 26362,\n 25154,\n 69093,\n 50439,\n 24602,\n 53622,\n 71879,\n 93124,\n 10951,\n 46542,\n 23702,\n 48212,\n 11992,\n 70988,\n 61972,\n 18440,\n 81507,\n 65683,\n 74655,\n 21625,\n 28277,\n 12415,\n 91618,\n 74317,\n 18674,\n 41755,\n 13297,\n 63864,\n 98702,\n 18768,\n 85802,\n 33360,\n 67775,\n 60843,\n 23800,\n 92578,\n 74770,\n 71334,\n 84053,\n 60245,\n 26356,\n 18504,\n 45367,\n 31696,\n 34752,\n 41624,\n 22870,\n 71181,\n 14922,\n 81698,\n 66071,\n 87042,\n 11067,\n 58942,\n 42578,\n 68957,\n 24031,\n 54945,\n 18089,\n 12850,\n 44724,\n 33507,\n 72477,\n 86711,\n 91264,\n 32260,\n 45620,\n 84336,\n 24118,\n 38514,\n 64962,\n 42156,\n 92003,\n 51754,\n 85817,\n 35921,\n 91466,\n 23040,\n 35741,\n 71936,\n 41645,\n 96243,\n 53693,\n 80057,\n 88635,\n 26798,\n 28347,\n 35867,\n 88309,\n 47910,\n 16729,\n 19279,\n 28482,\n 42917,\n 47547,\n 48319,\n 24990,\n 33457,\n 77594,\n 82000,\n 22599,\n 58449,\n 45169,\n 41222,\n 26566,\n 52982,\n 11542,\n 59848,\n 57720,\n 13407,\n 32601,\n 66007,\n 76584,\n 55911,\n 91821,\n 12713,\n 18540,\n 24188,\n 40126,\n 86153,\n 73334,\n 91329,\n 70784,\n 98145,\n 46652,\n 91306,\n 90897,\n 86143,\n 41567,\n 83951,\n 29693,\n 76751,\n 57253,\n 50447,\n 92925,\n 61424,\n 74993,\n 20389,\n 78708,\n 44669,\n 81861,\n 22295,\n 94151,\n 48751,\n 60456,\n 71027,\n 74046,\n 11680,\n 40727,\n 64456,\n 75785,\n 18131,\n 35892,\n 63385,\n 33592,\n 34568,\n 28430,\n 36006,\n 19650,\n 25565,\n 10310,\n 48300,\n 61133,\n 79117,\n 69118,\n 56079,\n 68339,\n 98822,\n 48635,\n 28314,\n 99209,\n 12878,\n 24014,\n 99884,\n 34519,\n 55743,\n 40368,\n 25886,\n 61522,\n 42336,\n 71071,\n 13208,\n 39458,\n 87821,\n 45854,\n 48060,\n 91708,\n 43364,\n 85100,\n 17108,\n 37350,\n 55195,\n 29596,\n 40969,\n 34173,\n 91354,\n 50931,\n 22286,\n 79793,\n 58655,\n 39732,\n 70357,\n 41230,\n 19719,\n 41597,\n 50281,\n 20914,\n 79547,\n 96654,\n 13902,\n 35154,\n 76137,\n 51409,\n 44834,\n 52869,\n 54935,\n 15223,\n 80238,\n 35690,\n 71105,\n 88843,\n 58202,\n 28872,\n 97500,\n 72550,\n 31247,\n 45170,\n 81402,\n 94328,\n 39676,\n 40011,\n 16909,\n 89219,\n 88699,\n 99948,\n 28988,\n 18088,\n 69472,\n 28673,\n 30124,\n 96534,\n 67701,\n 55008,\n 46519,\n 24388,\n 42997,\n 11830,\n 93975,\n 11984,\n 14570,\n 86377,\n 17540,\n 92812,\n 14094,\n 97332,\n 30146,\n 38435,\n 58045,\n 56328,\n 86319,\n 29348,\n 23570,\n 79349,\n 16525,\n 10016,\n 98654,\n 74069,\n 99681,\n 18792,\n 31311,\n 47800,\n 92070,\n 16517,\n 89050,\n 43300,\n 54539,\n 42157,\n 71318,\n 53353,\n 96957,\n 80344,\n 64846,\n 98204,\n 33251,\n 26432,\n 43638,\n 19917,\n 54490,\n 76363,\n 86578,\n 58109,\n 23932,\n 29315,\n 21381,\n 87040,\n 22748,\n 12203,\n 68746,\n 40517,\n 59830,\n 35098,\n 72431,\n 71628,\n 26255,\n 17185,\n 67786,\n 63533,\n 29077,\n 89962,\n 87689,\n 95073,\n 43845,\n 66104,\n 34467,\n 79400,\n 42343,\n 67829,\n 22129,\n 24708,\n 65062,\n 99295,\n 38659,\n 99025,\n 37727,\n 11966,\n 57264,\n 27735,\n 32082,\n 61417,\n 85172,\n 77114,\n 90022,\n 57834,\n 73787,\n 80656,\n 41700,\n 56388,\n 78704,\n 31604,\n 48327,\n 99233,\n 31915,\n 10003,\n 70217,\n 36242,\n 91086,\n 22188,\n 23164,\n 55130,\n 38285,\n 92565,\n 15266,\n 19364,\n 92308,\n 83817,\n 28525,\n 72886,\n 86713,\n 70857,\n 46638,\n 48732,\n 25482,\n 21230,\n 38453,\n 60367,\n 35958,\n 69616,\n 14805,\n 49590,\n 51848,\n 62421,\n 22356,\n 75862,\n 26818,\n 18535,\n 83891,\n 18818,\n 10605,\n 99238,\n 91409,\n 39493,\n 95832,\n 59066,\n 91546,\n 43279,\n 40384,\n 13591,\n 76673,\n 79319,\n 22444,\n 60538,\n 46735,\n 48638,\n 34190,\n 71206,\n 94362,\n 80557,\n 47910,\n 26157,\n 62560,\n 11852,\n 56366,\n 22191,\n 56857,\n 69151,\n 80381,\n 68028,\n 49512,\n 68832,\n 13179,\n 19019,\n 67352,\n 31183,\n 65772,\n 91096,\n 53897,\n 34291,\n 43180,\n 21404,\n 75783,\n 39049,\n 83018,\n 45202,\n 90012,\n 50746,\n 89501,\n 55929,\n 37934,\n 50706,\n 42092,\n 27919,\n 83954,\n 18306,\n 75340,\n 97757,\n 76877,\n 66861,\n 34782,\n 59185,\n 70277,\n 62516,\n 82475,\n 12565,\n 69461,\n 25381,\n 60907,\n 46075,\n 29760,\n 81943,\n 68420,\n 85099,\n 84334,\n 73311,\n 59356,\n 86422,\n 69200,\n 37799,\n 95051,\n 97283,\n 85647,\n 25160,\n 74624,\n 79882,\n 55617,\n 70138,\n 63770,\n 95989,\n 34128,\n 80265,\n 73920,\n 76174,\n 63575,\n 86054,\n 15550,\n 22674,\n 25408,\n 44773,\n 47716,\n 74884,\n 64914,\n 11852,\n 58386,\n 84369,\n 46125,\n 81136,\n 97089,\n 43255,\n 23912,\n 36542,\n 81157,\n 18934,\n 74665,\n 27752,\n 30525,\n 67745,\n 83538,\n 76421,\n 53963,\n 74374,\n 90950,\n 25975,\n 56812,\n 91888,\n 63670,\n 99721,\n 84259,\n 54894,\n 67301,\n 92535,\n 19749,\n 21742,\n 22760,\n 80484,\n 37130,\n 31331,\n 43737,\n 60830,\n 17383,\n 84339,\n 73163,\n 86464,\n 77442,\n 19169,\n 48810,\n 65050,\n 74155,\n 57426,\n 86552,\n 22657,\n 21212,\n 94516,\n 58508,\n 68040,\n 89923,\n 14138,\n 77641,\n 47133,\n 90538,\n 84520,\n 57469,\n 93268,\n 42998,\n 39616,\n 15425,\n 26484,\n 74460,\n 31329,\n 60893,\n 81297,\n 96339,\n 10736,\n 31882,\n 82078,\n 93030,\n 17354,\n 46036,\n 21194,\n 54699,\n 63966,\n 51487,\n 63091,\n 44890,\n 27651,\n 58119,\n 98356,\n 45085,\n 22403,\n 41283,\n 84115,\n 63578,\n 46002,\n 48005,\n 12478,\n 96306,\n 44921,\n 92480,\n 63008,\n 41496,\n 94657,\n 95688,\n 86298,\n 59228,\n 51228,\n 16004,\n 24523,\n 45705,\n 10143,\n 71832,\n 79050,\n 17022,\n 74234,\n 39037,\n 36767,\n 53792,\n 33108,\n 89875,\n 96656,\n 91707,\n 23433,\n 34194,\n 39444,\n 69804,\n 52182,\n 41024,\n 92912,\n 83448,\n 18552,\n 55092,\n 57171,\n 39925,\n 68570,\n 67290,\n 88742,\n 95044,\n 19799,\n 53619,\n 44374,\n 83806,\n 30068,\n 38255,\n 66376,\n 34615,\n 17951,\n 26508,\n 64513,\n 54861,\n 18444,\n 54208,\n 38416,\n 60045,\n 56068,\n 41519,\n 74934,\n 51158,\n 41237,\n 95639,\n 33666,\n 48670,\n 80359,\n 68637,\n 52626,\n 23112]"
     },
     "execution_count": 8,
     "metadata": {},
     "output_type": "execute_result"
    }
   ],
   "source": [],
   "metadata": {
    "collapsed": false,
    "ExecuteTime": {
     "end_time": "2024-08-27T23:18:32.291208Z",
     "start_time": "2024-08-27T23:18:32.276957Z"
    }
   },
   "id": "86525baf26d2834f",
   "execution_count": 8
  },
  {
   "cell_type": "code",
   "outputs": [
    {
     "ename": "NameError",
     "evalue": "name 'ranked_df' is not defined",
     "output_type": "error",
     "traceback": [
      "\u001B[1;31m---------------------------------------------------------------------------\u001B[0m",
      "\u001B[1;31mNameError\u001B[0m                                 Traceback (most recent call last)",
      "Cell \u001B[1;32mIn[83], line 1\u001B[0m\n\u001B[1;32m----> 1\u001B[0m \u001B[43mranked_df\u001B[49m\n",
      "\u001B[1;31mNameError\u001B[0m: name 'ranked_df' is not defined"
     ]
    }
   ],
   "source": [],
   "metadata": {
    "collapsed": false,
    "ExecuteTime": {
     "end_time": "2024-08-26T20:30:00.333087Z",
     "start_time": "2024-08-26T20:30:00.317254Z"
    }
   },
   "id": "a2b87c0ed17be75b",
   "execution_count": 83
  },
  {
   "cell_type": "code",
   "outputs": [],
   "source": [],
   "metadata": {
    "collapsed": false
   },
   "id": "47da4dc43ea051fd"
  }
 ],
 "metadata": {
  "kernelspec": {
   "display_name": "Python 3",
   "language": "python",
   "name": "python3"
  },
  "language_info": {
   "codemirror_mode": {
    "name": "ipython",
    "version": 2
   },
   "file_extension": ".py",
   "mimetype": "text/x-python",
   "name": "python",
   "nbconvert_exporter": "python",
   "pygments_lexer": "ipython2",
   "version": "2.7.6"
  }
 },
 "nbformat": 4,
 "nbformat_minor": 5
}
